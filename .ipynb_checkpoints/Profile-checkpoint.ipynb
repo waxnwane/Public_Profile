{
 "cells": [
  {
   "cell_type": "code",
   "execution_count": null,
   "metadata": {
    "scrolled": true
   },
   "outputs": [],
   "source": [
    "%run ~/Apps/io_View/embed.ipynb"
   ]
  },
  {
   "cell_type": "code",
   "execution_count": null,
   "metadata": {},
   "outputs": [],
   "source": [
    "display(HTML(\"\"\"<style>\n",
    ".toc-item-num { /* Removes Numbers from Heading */\n",
    "    visibility: hidden;\n",
    "}\n",
    "div.text_cell_render h1 { /* Main titles bigger, centered */\n",
    "    text-align:center;\n",
    "    font-size: 3em;\n",
    "    color: black;\n",
    "}\n",
    "div.text_cell_render { /* Customize text cells */\n",
    "    font-size: 1.2em;\n",
    "    line-height:1.4em;\n",
    "    color: rgb(100, 100, 100);\n",
    "}\n",
    "</style>\"\"\"))"
   ]
  },
  {
   "cell_type": "markdown",
   "metadata": {},
   "source": [
    "\n",
    "# Matt Elliott\n",
    "\n",
    "<p style=\"text-align:center\">\n",
    "    <font color=\"magenta\">Computer Scientist</font>, \n",
    "    <font color=\"green\">Computational Biologist</font>,\n",
    "    <font color=\"blue\">Surfer</font>,\n",
    "    <font color=\"brown\">Math Bum</font>\n",
    "</p>"
   ]
  },
  {
   "cell_type": "markdown",
   "metadata": {
    "cell_style": "split"
   },
   "source": [
    "<img class=\"img-responsive img-circle\"  width=\"50%\" src=\"my_image.jpg\" >"
   ]
  },
  {
   "cell_type": "markdown",
   "metadata": {
    "cell_style": "split"
   },
   "source": [
    "<hr>\n",
    "Hi, I'm Elliott! \n",
    "\n",
    "I created <font color=\"orange\">io</font> so that I could do all of my programming on my ipad. I then realized <font color=\"orange\">io</font> makes learning to program way easier and fun!\n",
    "\n",
    "I did my undergrad in [Berkeley](https://goo.gl/images/1bfB5T) where I studied [statistics](https://en.m.wikipedia.org/wiki/Statistics). After doing some Economics research in [New York](https://goo.gl/images/2C87Qr), I went back to school and got a masters in computer science from [UC San Diego](https://goo.gl/images/HbP4zp), where I just graduated!\n",
    "\n",
    "Lately I've been bitten by the [bio bug](https://en.m.wikipedia.org/wiki/Biology). My favorite things to read are [molecular biology](https://en.m.wikipedia.org/wiki/Molecular_biology) and the [omics](https://en.m.wikipedia.org/wiki/Omics) of medicine.\n",
    "\n"
   ]
  },
  {
   "cell_type": "markdown",
   "metadata": {
    "cell_style": "split"
   },
   "source": [
    "**Hobbies & Fun Facts**\n",
    "* I **LOVE** <font color=\"blue\">surfing</font> and <font color=\"blue\">skateboarding</font> (Just got back from Hawaii! )\n",
    "* Favorite Show: Rick and Morty \n",
    "* but really... I spend most my time [geeking out over books](https://goo.gl/images/gYghQf)\n"
   ]
  },
  {
   "cell_type": "markdown",
   "metadata": {},
   "source": [
    "## If I had more to say it'd go here"
   ]
  },
  {
   "cell_type": "markdown",
   "metadata": {},
   "source": [
    "I made this <font color=\"green\">smiley face</font> using one of the apps I built in <font color=\"orange\">io</font>"
   ]
  },
  {
   "cell_type": "code",
   "execution_count": null,
   "metadata": {},
   "outputs": [],
   "source": [
    "embedFile(\"Graph.html\")"
   ]
  },
  {
   "cell_type": "markdown",
   "metadata": {},
   "source": [
    "## And if I had even more to say..."
   ]
  },
  {
   "cell_type": "markdown",
   "metadata": {},
   "source": [
    "This is how you make cool looking math\n",
    "$$\n",
    "1 +  \\frac{q^2}{(1-q)}+\\frac{q^6}{(1-q)(1-q^2)}+\\cdots =\n",
    "\\prod_{j=0}^{\\infty}\\frac{1}{(1-q^{5j+2})(1-q^{5j+3})},\n",
    "\\quad\\quad \\text{for $|q|<1$}.\n",
    "$$"
   ]
  }
 ],
 "metadata": {
  "hide_input": false,
  "kernelspec": {
   "display_name": "Python 3",
   "language": "python",
   "name": "python3"
  },
  "language_info": {
   "codemirror_mode": {
    "name": "ipython",
    "version": 3
   },
   "file_extension": ".py",
   "mimetype": "text/x-python",
   "name": "python",
   "nbconvert_exporter": "python",
   "pygments_lexer": "ipython3",
   "version": "3.6.3"
  },
  "toc": {
   "base_numbering": 1,
   "nav_menu": {},
   "number_sections": true,
   "sideBar": true,
   "skip_h1_title": false,
   "title_cell": "Table of Contents",
   "title_sidebar": "Contents",
   "toc_cell": false,
   "toc_position": {},
   "toc_section_display": true,
   "toc_window_display": false
  },
  "varInspector": {
   "cols": {
    "lenName": 16,
    "lenType": 16,
    "lenVar": 40
   },
   "kernels_config": {
    "python": {
     "delete_cmd_postfix": "",
     "delete_cmd_prefix": "del ",
     "library": "var_list.py",
     "varRefreshCmd": "print(var_dic_list())"
    },
    "r": {
     "delete_cmd_postfix": ") ",
     "delete_cmd_prefix": "rm(",
     "library": "var_list.r",
     "varRefreshCmd": "cat(var_dic_list()) "
    }
   },
   "types_to_exclude": [
    "module",
    "function",
    "builtin_function_or_method",
    "instance",
    "_Feature"
   ],
   "window_display": false
  },
  "widgets": {
   "application/vnd.jupyter.widget-state+json": {
    "state": {},
    "version_major": 2,
    "version_minor": 0
   }
  }
 },
 "nbformat": 4,
 "nbformat_minor": 2
}
