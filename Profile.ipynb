{
 "cells": [
  {
   "cell_type": "code",
   "execution_count": null,
   "metadata": {
    "scrolled": true
   },
   "outputs": [],
   "source": [
    "%run ~/Apps/io_View/embed.ipynb"
   ]
  },
  {
   "cell_type": "code",
   "execution_count": null,
   "metadata": {},
   "outputs": [],
   "source": [
    "display(HTML(\"\"\"<style>\n",
    ".toc-item-num { /* Removes Numbers from Heading */\n",
    "    visibility: hidden;\n",
    "}\n",
    "div.text_cell_render h1 { /* Main titles bigger, centered */\n",
    "    text-align:center;\n",
    "    font-size: 3em;\n",
    "    color: black;\n",
    "}\n",
    "div.text_cell_render { /* Customize text cells */\n",
    "    font-size: 1.2em;\n",
    "    line-height:1.4em;\n",
    "    color: rgb(100, 100, 100);\n",
    "}\n",
    "</style>\"\"\"))"
   ]
  },
  {
   "cell_type": "markdown",
   "metadata": {},
   "source": [
    "\n",
    "# Mike Stone\n",
    "\n",
    "<p style=\"text-align:center\">\n",
    "    <font color=\"magenta\">Investment Specialist</font>, \n",
    "    <font color=\"green\">iPad Enthusiast</font>,\n",
    "    <font color=\"blue\">Snow Skier</font>,\n",
    "    <font color=\"brown\">Cyclist</font>\n",
    "</p>"
   ]
  },
  {
   "cell_type": "markdown",
   "metadata": {
    "cell_style": "split"
   },
   "source": [
    "<img class=\"img-responsive img-circle\"  width=\"50%\" src=\"my_image.jpeg\" >"
   ]
  },
  {
   "cell_type": "markdown",
   "metadata": {
    "cell_style": "split"
   },
   "source": [
    "<hr>\n",
    "Hi, I'm Mike! \n",
    "\n",
    "I want to learn [Python](https://en.wikipedia.org/wiki/Python_programming_language?wprov=sfti1) and [R](https://en.wikipedia.org/wiki/R_programming_language?wprov=sfti1) to automate work routines, and perhaps help me with more creative endeavors. I primarily work on an iPad, so Matt Elliott's trail blazing is extraordinarily helpful. I am glad I found his tutorials, and by leveraging <font color=\"orange\">io</font>, I hope to become proficient with [cloud computing](https://en.wikipedia.org/wiki/Cloud_computing?wprov=sfti1), [Github](https://en.wikipedia.org/wiki/GitHub?wprov=sfti1), and [Jupyter](https://en.wikipedia.org/wiki/Project_Jupyter?wprov=sfti1).\n",
    "\n",
    "I started out in software development after college, and later went back to school for an MS at [USC](https://www.google.com/search?q=university+of+southern+california&rlz=1C9BKJA_enUS754US763&oq=university+of+southern+california&aqs=chrome..69i57j5j69i59j0.9760j1j9&hl=en-US&sourceid=chrome-mobile&ie=UTF-8#imgrc=yDEthsG7vkmbRM:). Later I transitioned to finance, and obtained the [CFA](https://en.wikipedia.org/wiki/Chartered_Financial_Analyst?wprov=sfti1charter.did) charter. Lately I've become much more interested in [FinTech](https://en.wikipedia.org/wiki/Financial_technology?wprov=sfti1) and [AI](https://en.wikipedia.org/wiki/Artificial_intelligence?wprov=sfti1). My favorite things to read are [Foreign Affairs](https://www.foreignaffairs.com/) and spy novels."
   ]
  },
  {
   "cell_type": "markdown",
   "metadata": {
    "cell_style": "split"
   },
   "source": [
    "**Hobbies & Fun Facts**\n",
    "* I **LOVE** <font color=\"blue\">snow skiing</font> and recently tried <font color=\"blue\">snowboarding</font>.\n",
    "* Favorite Shows: Blacklist with eldest daughter and Hawaii 5-0 with youngest daughter"
   ]
  },
  {
   "cell_type": "markdown",
   "metadata": {},
   "source": [
    "## If I had more to say it'd go here"
   ]
  },
  {
   "cell_type": "markdown",
   "metadata": {},
   "source": [
    "I made this <font color=\"green\">smiley face</font> using one of the apps I built in <font color=\"orange\">io</font>"
   ]
  },
  {
   "cell_type": "code",
   "execution_count": null,
   "metadata": {},
   "outputs": [],
   "source": [
    "embedFile(\"Graph.html\")"
   ]
  },
  {
   "cell_type": "markdown",
   "metadata": {},
   "source": [
    "## And if I had even more to say..."
   ]
  },
  {
   "cell_type": "markdown",
   "metadata": {},
   "source": [
    "This is how you make cool looking math\n",
    "$$\n",
    "1 +  \\frac{q^2}{(1-q)}+\\frac{q^6}{(1-q)(1-q^2)}+\\cdots =\n",
    "\\prod_{j=0}^{\\infty}\\frac{1}{(1-q^{5j+2})(1-q^{5j+3})},\n",
    "\\quad\\quad \\text{for $|q|<1$}.\n",
    "$$"
   ]
  }
 ],
 "metadata": {
  "hide_input": false,
  "kernelspec": {
   "display_name": "Python 3",
   "language": "python",
   "name": "python3"
  },
  "language_info": {
   "codemirror_mode": {
    "name": "ipython",
    "version": 3
   },
   "file_extension": ".py",
   "mimetype": "text/x-python",
   "name": "python",
   "nbconvert_exporter": "python",
   "pygments_lexer": "ipython3",
   "version": "3.6.6"
  },
  "toc": {
   "base_numbering": 1,
   "nav_menu": {},
   "number_sections": true,
   "sideBar": true,
   "skip_h1_title": false,
   "title_cell": "Table of Contents",
   "title_sidebar": "Contents",
   "toc_cell": false,
   "toc_position": {},
   "toc_section_display": true,
   "toc_window_display": false
  },
  "varInspector": {
   "cols": {
    "lenName": 16,
    "lenType": 16,
    "lenVar": 40
   },
   "kernels_config": {
    "python": {
     "delete_cmd_postfix": "",
     "delete_cmd_prefix": "del ",
     "library": "var_list.py",
     "varRefreshCmd": "print(var_dic_list())"
    },
    "r": {
     "delete_cmd_postfix": ") ",
     "delete_cmd_prefix": "rm(",
     "library": "var_list.r",
     "varRefreshCmd": "cat(var_dic_list()) "
    }
   },
   "types_to_exclude": [
    "module",
    "function",
    "builtin_function_or_method",
    "instance",
    "_Feature"
   ],
   "window_display": false
  },
  "widgets": {
   "application/vnd.jupyter.widget-state+json": {
    "state": {},
    "version_major": 2,
    "version_minor": 0
   }
  }
 },
 "nbformat": 4,
 "nbformat_minor": 2
}
